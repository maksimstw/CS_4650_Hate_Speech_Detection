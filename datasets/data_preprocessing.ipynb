{
 "cells": [
  {
   "cell_type": "code",
   "execution_count": 40,
   "metadata": {},
   "outputs": [],
   "source": [
    "import pandas as pd\n",
    "import numpy as np\n",
    "import csv\n",
    "from tqdm import tqdm"
   ]
  },
  {
   "cell_type": "markdown",
   "metadata": {},
   "source": [
    "## GHC"
   ]
  },
  {
   "cell_type": "code",
   "execution_count": 4,
   "metadata": {},
   "outputs": [
    {
     "data": {
      "text/html": [
       "<div>\n",
       "<style scoped>\n",
       "    .dataframe tbody tr th:only-of-type {\n",
       "        vertical-align: middle;\n",
       "    }\n",
       "\n",
       "    .dataframe tbody tr th {\n",
       "        vertical-align: top;\n",
       "    }\n",
       "\n",
       "    .dataframe thead th {\n",
       "        text-align: right;\n",
       "    }\n",
       "</style>\n",
       "<table border=\"1\" class=\"dataframe\">\n",
       "  <thead>\n",
       "    <tr style=\"text-align: right;\">\n",
       "      <th></th>\n",
       "      <th>ID</th>\n",
       "      <th>Annotator</th>\n",
       "      <th>Text</th>\n",
       "      <th>Hate</th>\n",
       "      <th>HD</th>\n",
       "      <th>CV</th>\n",
       "      <th>VO</th>\n",
       "      <th>REL</th>\n",
       "      <th>RAE</th>\n",
       "      <th>SXO</th>\n",
       "      <th>GEN</th>\n",
       "      <th>IDL</th>\n",
       "      <th>NAT</th>\n",
       "      <th>POL</th>\n",
       "      <th>MPH</th>\n",
       "      <th>EX</th>\n",
       "      <th>IM</th>\n",
       "    </tr>\n",
       "  </thead>\n",
       "  <tbody>\n",
       "    <tr>\n",
       "      <th>0</th>\n",
       "      <td>27044</td>\n",
       "      <td>4</td>\n",
       "      <td>Ah the PSYOPS antifa crew is back. That’s how ...</td>\n",
       "      <td>0</td>\n",
       "      <td>0</td>\n",
       "      <td>0</td>\n",
       "      <td>0</td>\n",
       "      <td>NaN</td>\n",
       "      <td>NaN</td>\n",
       "      <td>NaN</td>\n",
       "      <td>NaN</td>\n",
       "      <td>NaN</td>\n",
       "      <td>NaN</td>\n",
       "      <td>NaN</td>\n",
       "      <td>NaN</td>\n",
       "      <td>NaN</td>\n",
       "      <td>NaN</td>\n",
       "    </tr>\n",
       "    <tr>\n",
       "      <th>1</th>\n",
       "      <td>27044</td>\n",
       "      <td>15</td>\n",
       "      <td>Ah the PSYOPS antifa crew is back. That’s how ...</td>\n",
       "      <td>0</td>\n",
       "      <td>0</td>\n",
       "      <td>0</td>\n",
       "      <td>0</td>\n",
       "      <td>NaN</td>\n",
       "      <td>NaN</td>\n",
       "      <td>NaN</td>\n",
       "      <td>NaN</td>\n",
       "      <td>NaN</td>\n",
       "      <td>NaN</td>\n",
       "      <td>NaN</td>\n",
       "      <td>NaN</td>\n",
       "      <td>NaN</td>\n",
       "      <td>NaN</td>\n",
       "    </tr>\n",
       "    <tr>\n",
       "      <th>2</th>\n",
       "      <td>27044</td>\n",
       "      <td>10</td>\n",
       "      <td>Ah the PSYOPS antifa crew is back. That’s how ...</td>\n",
       "      <td>0</td>\n",
       "      <td>0</td>\n",
       "      <td>0</td>\n",
       "      <td>0</td>\n",
       "      <td>NaN</td>\n",
       "      <td>NaN</td>\n",
       "      <td>NaN</td>\n",
       "      <td>NaN</td>\n",
       "      <td>NaN</td>\n",
       "      <td>NaN</td>\n",
       "      <td>NaN</td>\n",
       "      <td>NaN</td>\n",
       "      <td>NaN</td>\n",
       "      <td>NaN</td>\n",
       "    </tr>\n",
       "    <tr>\n",
       "      <th>3</th>\n",
       "      <td>27044</td>\n",
       "      <td>8</td>\n",
       "      <td>Ah the PSYOPS antifa crew is back. That’s how ...</td>\n",
       "      <td>0</td>\n",
       "      <td>0</td>\n",
       "      <td>0</td>\n",
       "      <td>0</td>\n",
       "      <td>NaN</td>\n",
       "      <td>NaN</td>\n",
       "      <td>NaN</td>\n",
       "      <td>NaN</td>\n",
       "      <td>NaN</td>\n",
       "      <td>NaN</td>\n",
       "      <td>NaN</td>\n",
       "      <td>NaN</td>\n",
       "      <td>NaN</td>\n",
       "      <td>NaN</td>\n",
       "    </tr>\n",
       "    <tr>\n",
       "      <th>4</th>\n",
       "      <td>27045</td>\n",
       "      <td>4</td>\n",
       "      <td>Get the new Android app update released today ...</td>\n",
       "      <td>0</td>\n",
       "      <td>0</td>\n",
       "      <td>0</td>\n",
       "      <td>0</td>\n",
       "      <td>NaN</td>\n",
       "      <td>NaN</td>\n",
       "      <td>NaN</td>\n",
       "      <td>NaN</td>\n",
       "      <td>NaN</td>\n",
       "      <td>NaN</td>\n",
       "      <td>NaN</td>\n",
       "      <td>NaN</td>\n",
       "      <td>NaN</td>\n",
       "      <td>NaN</td>\n",
       "    </tr>\n",
       "  </tbody>\n",
       "</table>\n",
       "</div>"
      ],
      "text/plain": [
       "      ID  Annotator                                               Text  Hate  \\\n",
       "0  27044          4  Ah the PSYOPS antifa crew is back. That’s how ...     0   \n",
       "1  27044         15  Ah the PSYOPS antifa crew is back. That’s how ...     0   \n",
       "2  27044         10  Ah the PSYOPS antifa crew is back. That’s how ...     0   \n",
       "3  27044          8  Ah the PSYOPS antifa crew is back. That’s how ...     0   \n",
       "4  27045          4  Get the new Android app update released today ...     0   \n",
       "\n",
       "   HD  CV  VO  REL  RAE  SXO  GEN  IDL  NAT  POL  MPH  EX  IM  \n",
       "0   0   0   0  NaN  NaN  NaN  NaN  NaN  NaN  NaN  NaN NaN NaN  \n",
       "1   0   0   0  NaN  NaN  NaN  NaN  NaN  NaN  NaN  NaN NaN NaN  \n",
       "2   0   0   0  NaN  NaN  NaN  NaN  NaN  NaN  NaN  NaN NaN NaN  \n",
       "3   0   0   0  NaN  NaN  NaN  NaN  NaN  NaN  NaN  NaN NaN NaN  \n",
       "4   0   0   0  NaN  NaN  NaN  NaN  NaN  NaN  NaN  NaN NaN NaN  "
      ]
     },
     "execution_count": 4,
     "metadata": {},
     "output_type": "execute_result"
    }
   ],
   "source": [
    "ghc_df = pd.read_csv('GHC\\GabHateCorpus_annotations.tsv', delimiter='\\t')\n",
    "ghc_df.head()"
   ]
  },
  {
   "cell_type": "code",
   "execution_count": 55,
   "metadata": {},
   "outputs": [
    {
     "name": "stdout",
     "output_type": "stream",
     "text": [
      "27665\n"
     ]
    }
   ],
   "source": [
    "print(len(ghc_df['ID'].unique()))"
   ]
  },
  {
   "cell_type": "code",
   "execution_count": 69,
   "metadata": {},
   "outputs": [
    {
     "name": "stderr",
     "output_type": "stream",
     "text": [
      "100%|██████████| 27665/27665 [00:19<00:00, 1384.81it/s]\n"
     ]
    }
   ],
   "source": [
    "f = open('GHC\\ghc_preprocessed.tsv', 'a', encoding='utf-8')\n",
    "writer = csv.writer(f, delimiter='\\t')\n",
    "writer.writerow(['txt', 'hate'])\n",
    "for idx in tqdm(ghc_df['ID'].unique()):\n",
    "    rows = ghc_df.loc[ghc_df['ID'] == idx]\n",
    "    row_len = len(rows)\n",
    "    row_sum = sum(list(rows['Hate']))\n",
    "    if row_sum >= int(row_len * (2 / 3)):\n",
    "        writer.writerow([rows['Text'].iloc[0], '1'])\n",
    "    elif row_sum == 0:\n",
    "        writer.writerow(rows[['Text', 'Hate']].iloc[0])\n",
    "f.close()"
   ]
  },
  {
   "cell_type": "code",
   "execution_count": 70,
   "metadata": {},
   "outputs": [
    {
     "data": {
      "text/plain": [
       "0    19852\n",
       "1     2563\n",
       "Name: hate, dtype: int64"
      ]
     },
     "execution_count": 70,
     "metadata": {},
     "output_type": "execute_result"
    }
   ],
   "source": [
    "ghc_df_after = pd.read_csv('GHC\\ghc_preprocessed.tsv', delimiter='\\t')\n",
    "ghc_df_after['hate'].value_counts()"
   ]
  },
  {
   "cell_type": "markdown",
   "metadata": {},
   "source": [
    "## Stormfront"
   ]
  },
  {
   "cell_type": "code",
   "execution_count": 62,
   "metadata": {},
   "outputs": [],
   "source": [
    "LABELS = {\n",
    "    'noHate': 0,\n",
    "    'hate': 1\n",
    "}\n",
    "\n",
    "def get_text(file_id):\n",
    "    with open(f'Stormfront/all_files/{file_id}.txt', encoding='utf-8') as f:\n",
    "        return f.readline()\n",
    "\n",
    "df = pd.read_csv('Stormfront/annotations_metadata.csv')\n",
    "df.index.name = 'doc_id'  \n",
    "df['text'] = df['file_id'].apply(get_text)\n",
    "df['label'].replace(LABELS, inplace=True)\n",
    "df.rename(columns={'label': 'is_hate'}, inplace=True)\n",
    "df.to_csv('stormfront.tsv', sep='\\t', columns = ['text', 'is_hate'])"
   ]
  },
  {
   "cell_type": "code",
   "execution_count": 65,
   "metadata": {},
   "outputs": [
    {
     "data": {
      "text/plain": [
       "0           9507\n",
       "1           1196\n",
       "relation     168\n",
       "idk/skip      73\n",
       "Name: is_hate, dtype: int64"
      ]
     },
     "execution_count": 65,
     "metadata": {},
     "output_type": "execute_result"
    }
   ],
   "source": [
    "stormfront_df_after = pd.read_csv('Stormfront/stormfront.tsv', delimiter='\\t')\n",
    "stormfront_df_after['is_hate'].value_counts()"
   ]
  }
 ],
 "metadata": {
  "interpreter": {
   "hash": "2e11e5a522e080512818b9bf84dbbd443475dd70c5375019780e8dfd28d97bce"
  },
  "kernelspec": {
   "display_name": "Python 3.9.7 64-bit ('CS_4650_Proj': conda)",
   "name": "python3"
  },
  "language_info": {
   "codemirror_mode": {
    "name": "ipython",
    "version": 3
   },
   "file_extension": ".py",
   "mimetype": "text/x-python",
   "name": "python",
   "nbconvert_exporter": "python",
   "pygments_lexer": "ipython3",
   "version": "3.9.7"
  },
  "orig_nbformat": 4
 },
 "nbformat": 4,
 "nbformat_minor": 2
}

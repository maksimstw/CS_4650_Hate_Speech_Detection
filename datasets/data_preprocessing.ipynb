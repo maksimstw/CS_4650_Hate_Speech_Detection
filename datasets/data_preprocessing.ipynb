{
 "cells": [
  {
   "cell_type": "code",
   "execution_count": 27,
   "metadata": {},
   "outputs": [],
   "source": [
    "import pandas as pd\n",
    "import numpy as np\n",
    "import csv\n",
    "from tqdm import tqdm\n",
    "from sklearn.model_selection import train_test_split"
   ]
  },
  {
   "cell_type": "markdown",
   "metadata": {},
   "source": [
    "## GHC"
   ]
  },
  {
   "cell_type": "code",
   "execution_count": 4,
   "metadata": {},
   "outputs": [
    {
     "data": {
      "text/html": [
       "<div>\n",
       "<style scoped>\n",
       "    .dataframe tbody tr th:only-of-type {\n",
       "        vertical-align: middle;\n",
       "    }\n",
       "\n",
       "    .dataframe tbody tr th {\n",
       "        vertical-align: top;\n",
       "    }\n",
       "\n",
       "    .dataframe thead th {\n",
       "        text-align: right;\n",
       "    }\n",
       "</style>\n",
       "<table border=\"1\" class=\"dataframe\">\n",
       "  <thead>\n",
       "    <tr style=\"text-align: right;\">\n",
       "      <th></th>\n",
       "      <th>ID</th>\n",
       "      <th>Annotator</th>\n",
       "      <th>Text</th>\n",
       "      <th>Hate</th>\n",
       "      <th>HD</th>\n",
       "      <th>CV</th>\n",
       "      <th>VO</th>\n",
       "      <th>REL</th>\n",
       "      <th>RAE</th>\n",
       "      <th>SXO</th>\n",
       "      <th>GEN</th>\n",
       "      <th>IDL</th>\n",
       "      <th>NAT</th>\n",
       "      <th>POL</th>\n",
       "      <th>MPH</th>\n",
       "      <th>EX</th>\n",
       "      <th>IM</th>\n",
       "    </tr>\n",
       "  </thead>\n",
       "  <tbody>\n",
       "    <tr>\n",
       "      <th>0</th>\n",
       "      <td>27044</td>\n",
       "      <td>4</td>\n",
       "      <td>Ah the PSYOPS antifa crew is back. That’s how ...</td>\n",
       "      <td>0</td>\n",
       "      <td>0</td>\n",
       "      <td>0</td>\n",
       "      <td>0</td>\n",
       "      <td>NaN</td>\n",
       "      <td>NaN</td>\n",
       "      <td>NaN</td>\n",
       "      <td>NaN</td>\n",
       "      <td>NaN</td>\n",
       "      <td>NaN</td>\n",
       "      <td>NaN</td>\n",
       "      <td>NaN</td>\n",
       "      <td>NaN</td>\n",
       "      <td>NaN</td>\n",
       "    </tr>\n",
       "    <tr>\n",
       "      <th>1</th>\n",
       "      <td>27044</td>\n",
       "      <td>15</td>\n",
       "      <td>Ah the PSYOPS antifa crew is back. That’s how ...</td>\n",
       "      <td>0</td>\n",
       "      <td>0</td>\n",
       "      <td>0</td>\n",
       "      <td>0</td>\n",
       "      <td>NaN</td>\n",
       "      <td>NaN</td>\n",
       "      <td>NaN</td>\n",
       "      <td>NaN</td>\n",
       "      <td>NaN</td>\n",
       "      <td>NaN</td>\n",
       "      <td>NaN</td>\n",
       "      <td>NaN</td>\n",
       "      <td>NaN</td>\n",
       "      <td>NaN</td>\n",
       "    </tr>\n",
       "    <tr>\n",
       "      <th>2</th>\n",
       "      <td>27044</td>\n",
       "      <td>10</td>\n",
       "      <td>Ah the PSYOPS antifa crew is back. That’s how ...</td>\n",
       "      <td>0</td>\n",
       "      <td>0</td>\n",
       "      <td>0</td>\n",
       "      <td>0</td>\n",
       "      <td>NaN</td>\n",
       "      <td>NaN</td>\n",
       "      <td>NaN</td>\n",
       "      <td>NaN</td>\n",
       "      <td>NaN</td>\n",
       "      <td>NaN</td>\n",
       "      <td>NaN</td>\n",
       "      <td>NaN</td>\n",
       "      <td>NaN</td>\n",
       "      <td>NaN</td>\n",
       "    </tr>\n",
       "    <tr>\n",
       "      <th>3</th>\n",
       "      <td>27044</td>\n",
       "      <td>8</td>\n",
       "      <td>Ah the PSYOPS antifa crew is back. That’s how ...</td>\n",
       "      <td>0</td>\n",
       "      <td>0</td>\n",
       "      <td>0</td>\n",
       "      <td>0</td>\n",
       "      <td>NaN</td>\n",
       "      <td>NaN</td>\n",
       "      <td>NaN</td>\n",
       "      <td>NaN</td>\n",
       "      <td>NaN</td>\n",
       "      <td>NaN</td>\n",
       "      <td>NaN</td>\n",
       "      <td>NaN</td>\n",
       "      <td>NaN</td>\n",
       "      <td>NaN</td>\n",
       "    </tr>\n",
       "    <tr>\n",
       "      <th>4</th>\n",
       "      <td>27045</td>\n",
       "      <td>4</td>\n",
       "      <td>Get the new Android app update released today ...</td>\n",
       "      <td>0</td>\n",
       "      <td>0</td>\n",
       "      <td>0</td>\n",
       "      <td>0</td>\n",
       "      <td>NaN</td>\n",
       "      <td>NaN</td>\n",
       "      <td>NaN</td>\n",
       "      <td>NaN</td>\n",
       "      <td>NaN</td>\n",
       "      <td>NaN</td>\n",
       "      <td>NaN</td>\n",
       "      <td>NaN</td>\n",
       "      <td>NaN</td>\n",
       "      <td>NaN</td>\n",
       "    </tr>\n",
       "  </tbody>\n",
       "</table>\n",
       "</div>"
      ],
      "text/plain": [
       "      ID  Annotator                                               Text  Hate  \\\n",
       "0  27044          4  Ah the PSYOPS antifa crew is back. That’s how ...     0   \n",
       "1  27044         15  Ah the PSYOPS antifa crew is back. That’s how ...     0   \n",
       "2  27044         10  Ah the PSYOPS antifa crew is back. That’s how ...     0   \n",
       "3  27044          8  Ah the PSYOPS antifa crew is back. That’s how ...     0   \n",
       "4  27045          4  Get the new Android app update released today ...     0   \n",
       "\n",
       "   HD  CV  VO  REL  RAE  SXO  GEN  IDL  NAT  POL  MPH  EX  IM  \n",
       "0   0   0   0  NaN  NaN  NaN  NaN  NaN  NaN  NaN  NaN NaN NaN  \n",
       "1   0   0   0  NaN  NaN  NaN  NaN  NaN  NaN  NaN  NaN NaN NaN  \n",
       "2   0   0   0  NaN  NaN  NaN  NaN  NaN  NaN  NaN  NaN NaN NaN  \n",
       "3   0   0   0  NaN  NaN  NaN  NaN  NaN  NaN  NaN  NaN NaN NaN  \n",
       "4   0   0   0  NaN  NaN  NaN  NaN  NaN  NaN  NaN  NaN NaN NaN  "
      ]
     },
     "execution_count": 4,
     "metadata": {},
     "output_type": "execute_result"
    }
   ],
   "source": [
    "ghc_df = pd.read_csv('GHC\\GabHateCorpus_annotations.tsv', delimiter='\\t')\n",
    "ghc_df.head()"
   ]
  },
  {
   "cell_type": "code",
   "execution_count": 55,
   "metadata": {},
   "outputs": [
    {
     "name": "stdout",
     "output_type": "stream",
     "text": [
      "27665\n"
     ]
    }
   ],
   "source": [
    "print(len(ghc_df['ID'].unique()))"
   ]
  },
  {
   "cell_type": "code",
   "execution_count": 69,
   "metadata": {},
   "outputs": [
    {
     "name": "stderr",
     "output_type": "stream",
     "text": [
      "100%|██████████| 27665/27665 [00:19<00:00, 1384.81it/s]\n"
     ]
    }
   ],
   "source": [
    "f = open('GHC\\ghc_preprocessed.tsv', 'a', encoding='utf-8')\n",
    "writer = csv.writer(f, delimiter='\\t')\n",
    "writer.writerow(['txt', 'hate'])\n",
    "for idx in tqdm(ghc_df['ID'].unique()):\n",
    "    rows = ghc_df.loc[ghc_df['ID'] == idx]\n",
    "    row_len = len(rows)\n",
    "    row_sum = sum(list(rows['Hate']))\n",
    "    if row_sum >= int(row_len * (2 / 3)):\n",
    "        writer.writerow([rows['Text'].iloc[0], '1'])\n",
    "    elif row_sum == 0:\n",
    "        writer.writerow(rows[['Text', 'Hate']].iloc[0])\n",
    "f.close()"
   ]
  },
  {
   "cell_type": "code",
   "execution_count": 40,
   "metadata": {},
   "outputs": [
    {
     "data": {
      "text/plain": [
       "0    19852\n",
       "1     2563\n",
       "Name: hate, dtype: int64"
      ]
     },
     "execution_count": 40,
     "metadata": {},
     "output_type": "execute_result"
    }
   ],
   "source": [
    "ghc_df_after = pd.read_csv('GHC/ghc_preprocessed.tsv', delimiter='\\t')\n",
    "ghc_df_after['hate'].value_counts()"
   ]
  },
  {
   "cell_type": "code",
   "execution_count": 37,
   "metadata": {},
   "outputs": [],
   "source": [
    "RANDOM_SEED = 42\n",
    "df_train, df_test = train_test_split(\n",
    "  ghc_df_after,\n",
    "  test_size=0.2,\n",
    "  random_state=RANDOM_SEED\n",
    ")\n",
    "df_val, df_test = train_test_split(\n",
    "  df_test,\n",
    "  test_size=0.5,\n",
    "  random_state=RANDOM_SEED\n",
    ")\n",
    "df_train.to_csv('real_dataset/ghc_train.tsv', sep='\\t', header=['text', 'is_hate'], columns = ['txt', 'hate'])\n",
    "df_val.to_csv('real_dataset/ghc_val.tsv', sep='\\t', header=['text', 'is_hate'], columns = ['txt', 'hate'])\n",
    "df_test.to_csv('real_dataset/ghc_test.tsv', sep='\\t', header=['text', 'is_hate'], columns = ['txt', 'hate'])\n",
    "print()"
   ]
  },
  {
   "cell_type": "code",
   "execution_count": 45,
   "metadata": {},
   "outputs": [
    {
     "name": "stdout",
     "output_type": "stream",
     "text": [
      "0    15859\n",
      "1     2073\n",
      "Name: hate, dtype: int64\n",
      "0    2003\n",
      "1     238\n",
      "Name: hate, dtype: int64\n",
      "0    1990\n",
      "1     252\n",
      "Name: hate, dtype: int64\n"
     ]
    }
   ],
   "source": [
    "print(df_train.iloc[:, 1].value_counts())\n",
    "print(df_val.iloc[:, 1].value_counts())\n",
    "print(df_test.iloc[:, 1].value_counts())"
   ]
  },
  {
   "cell_type": "markdown",
   "metadata": {},
   "source": [
    "## Stormfront"
   ]
  },
  {
   "cell_type": "code",
   "execution_count": 62,
   "metadata": {},
   "outputs": [],
   "source": [
    "LABELS = {\n",
    "    'noHate': 0,\n",
    "    'hate': 1\n",
    "}\n",
    "\n",
    "def get_text(file_id):\n",
    "    with open(f'Stormfront/all_files/{file_id}.txt', encoding='utf-8') as f:\n",
    "        return f.readline()\n",
    "\n",
    "df = pd.read_csv('Stormfront/annotations_metadata.csv')\n",
    "df.index.name = 'doc_id'  \n",
    "df['text'] = df['file_id'].apply(get_text)\n",
    "df['label'].replace(LABELS, inplace=True)\n",
    "df.rename(columns={'label': 'is_hate'}, inplace=True)\n",
    "df.to_csv('stormfront.tsv', sep='\\t', columns = ['text', 'is_hate'])"
   ]
  },
  {
   "cell_type": "code",
   "execution_count": 48,
   "metadata": {},
   "outputs": [
    {
     "data": {
      "text/plain": [
       "0           9507\n",
       "1           1196\n",
       "relation     168\n",
       "idk/skip      73\n",
       "Name: is_hate, dtype: int64"
      ]
     },
     "execution_count": 48,
     "metadata": {},
     "output_type": "execute_result"
    }
   ],
   "source": [
    "stormfront_df_after = pd.read_csv('Stormfront/stormfront.tsv', delimiter='\\t')\n",
    "stormfront_df_after['is_hate'].value_counts()"
   ]
  },
  {
   "cell_type": "code",
   "execution_count": 51,
   "metadata": {},
   "outputs": [
    {
     "data": {
      "text/html": [
       "<div>\n",
       "<style scoped>\n",
       "    .dataframe tbody tr th:only-of-type {\n",
       "        vertical-align: middle;\n",
       "    }\n",
       "\n",
       "    .dataframe tbody tr th {\n",
       "        vertical-align: top;\n",
       "    }\n",
       "\n",
       "    .dataframe thead th {\n",
       "        text-align: right;\n",
       "    }\n",
       "</style>\n",
       "<table border=\"1\" class=\"dataframe\">\n",
       "  <thead>\n",
       "    <tr style=\"text-align: right;\">\n",
       "      <th></th>\n",
       "      <th>doc_id</th>\n",
       "      <th>text</th>\n",
       "      <th>is_hate</th>\n",
       "    </tr>\n",
       "  </thead>\n",
       "  <tbody>\n",
       "    <tr>\n",
       "      <th>0</th>\n",
       "      <td>0</td>\n",
       "      <td>As of March 13th , 2014 , the booklet had been...</td>\n",
       "      <td>0</td>\n",
       "    </tr>\n",
       "    <tr>\n",
       "      <th>1</th>\n",
       "      <td>1</td>\n",
       "      <td>In order to help increase the booklets downloa...</td>\n",
       "      <td>0</td>\n",
       "    </tr>\n",
       "    <tr>\n",
       "      <th>2</th>\n",
       "      <td>2</td>\n",
       "      <td>( Simply copy and paste the following text int...</td>\n",
       "      <td>0</td>\n",
       "    </tr>\n",
       "    <tr>\n",
       "      <th>3</th>\n",
       "      <td>3</td>\n",
       "      <td>Click below for a FREE download of a colorfull...</td>\n",
       "      <td>1</td>\n",
       "    </tr>\n",
       "    <tr>\n",
       "      <th>4</th>\n",
       "      <td>4</td>\n",
       "      <td>Click on the `` DOWNLOAD ( 7.42 MB ) '' green ...</td>\n",
       "      <td>0</td>\n",
       "    </tr>\n",
       "  </tbody>\n",
       "</table>\n",
       "</div>"
      ],
      "text/plain": [
       "   doc_id                                               text is_hate\n",
       "0       0  As of March 13th , 2014 , the booklet had been...       0\n",
       "1       1  In order to help increase the booklets downloa...       0\n",
       "2       2  ( Simply copy and paste the following text int...       0\n",
       "3       3  Click below for a FREE download of a colorfull...       1\n",
       "4       4  Click on the `` DOWNLOAD ( 7.42 MB ) '' green ...       0"
      ]
     },
     "execution_count": 51,
     "metadata": {},
     "output_type": "execute_result"
    }
   ],
   "source": [
    "stormfront_df_final = stormfront_df_after[(stormfront_df_after['is_hate'].isin(['0', '1']))]\n",
    "stormfront_df_final.head()"
   ]
  },
  {
   "cell_type": "code",
   "execution_count": 53,
   "metadata": {},
   "outputs": [],
   "source": [
    "RANDOM_SEED = 42\n",
    "df_train, df_test = train_test_split(\n",
    "  stormfront_df_final,\n",
    "  test_size=0.2,\n",
    "  random_state=RANDOM_SEED\n",
    ")\n",
    "df_val, df_test = train_test_split(\n",
    "  df_test,\n",
    "  test_size=0.5,\n",
    "  random_state=RANDOM_SEED\n",
    ")\n",
    "df_train.to_csv('real_dataset/stormfront_train.tsv', sep='\\t', columns = ['text', 'is_hate'], header=['text', 'is_hate'])\n",
    "df_val.to_csv('real_dataset/stormfront_val.tsv', sep='\\t', columns = ['text', 'is_hate'], header=['text', 'is_hate'])\n",
    "df_test.to_csv('real_dataset/stormfront_test.tsv', sep='\\t', columns = ['text', 'is_hate'], header=['text', 'is_hate'])"
   ]
  },
  {
   "cell_type": "code",
   "execution_count": null,
   "metadata": {},
   "outputs": [],
   "source": []
  }
 ],
 "metadata": {
  "interpreter": {
   "hash": "2e11e5a522e080512818b9bf84dbbd443475dd70c5375019780e8dfd28d97bce"
  },
  "kernelspec": {
   "display_name": "Python 3.9.7 64-bit ('CS_4650_Proj': conda)",
   "name": "python3"
  },
  "language_info": {
   "codemirror_mode": {
    "name": "ipython",
    "version": 3
   },
   "file_extension": ".py",
   "mimetype": "text/x-python",
   "name": "python",
   "nbconvert_exporter": "python",
   "pygments_lexer": "ipython3",
   "version": "3.9.7"
  },
  "orig_nbformat": 4
 },
 "nbformat": 4,
 "nbformat_minor": 2
}
